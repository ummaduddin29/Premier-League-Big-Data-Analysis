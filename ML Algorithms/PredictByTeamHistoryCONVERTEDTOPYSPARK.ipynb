{
 "cells": [
  {
   "cell_type": "code",
   "execution_count": 9,
   "id": "e7609125",
   "metadata": {},
   "outputs": [],
   "source": [
    "import os\n",
    "os.environ[\"JAVA_HOME\"] = \"C:\\Program Files\\Java\\jdk-11.0.17\"\n",
    "os.environ[\"SPARK_HOME\"] = \"C:/Users/Ummad/Documents/spark/spark-3.0.1-bin-hadoop2.7\""
   ]
  },
  {
   "cell_type": "code",
   "execution_count": 10,
   "id": "badfe65e",
   "metadata": {},
   "outputs": [],
   "source": [
    "import findspark\n",
    "findspark.init()\n",
    "\n",
    "import pyspark # only run after findspark.init()\n",
    "from pyspark.sql import SparkSession\n",
    "spark = SparkSession.builder.appName(\"MyApp\").config(\"spark.some.config.option\", \"some-value\").getOrCreate()"
   ]
  },
  {
   "cell_type": "code",
   "execution_count": 11,
   "id": "d1170574",
   "metadata": {},
   "outputs": [],
   "source": [
    "import pyspark.sql.functions as F\n",
    "from pyspark.sql.types import *\n",
    "from pyspark.ml.feature import VectorAssembler\n",
    "from pyspark.ml.stat import Correlation\n",
    "from pyspark.ml.regression import LinearRegression\n",
    "\n",
    "from string import ascii_uppercase as alphabet\n",
    "from scipy.stats import poisson"
   ]
  },
  {
   "cell_type": "code",
   "execution_count": 12,
   "id": "f6064892",
   "metadata": {
    "scrolled": true
   },
   "outputs": [],
   "source": [
    "df_history_data = spark.read.option(\"header\", \"true\").csv(\"historical_data.csv\")"
   ]
  },
  {
   "cell_type": "code",
   "execution_count": 13,
   "id": "a756c5a1",
   "metadata": {},
   "outputs": [],
   "source": [
    "from pyspark.sql.functions import col\n",
    "\n",
    "df_home = df_history_data.select(col('HomeTeam').alias('Team'), col('HomeGoals').alias('GoalsScored'), col('AwayGoals').alias('GoalsConceded'))\n",
    "df_away = df_history_data.select(col('AwayTeam').alias('Team'), col('AwayGoals').alias('GoalsScored'), col('HomeGoals').alias('GoalsConceded'))\n",
    "\n",
    "df_home = df_home.withColumnRenamed('HomeTeam', 'Team').withColumnRenamed('HomeGoals', 'GoalsScored').withColumnRenamed('AwayGoals', 'GoalsConceded')\n",
    "df_away = df_away.withColumnRenamed('AwayTeam', 'Team').withColumnRenamed('AwayGoals', 'GoalsScored').withColumnRenamed('HomeGoals', 'GoalsConceded')\n"
   ]
  },
  {
   "cell_type": "code",
   "execution_count": 14,
   "id": "59bfdecd",
   "metadata": {},
   "outputs": [],
   "source": [
    "from pyspark.sql.functions import avg\n",
    "\n",
    "df_team_strength = df_home.union(df_away)\\\n",
    "    .groupBy(\"Team\")\\\n",
    "    .agg(avg(\"GoalsScored\").alias(\"GoalsScored\"), avg(\"GoalsConceded\").alias(\"GoalsConceded\"))\n"
   ]
  },
  {
   "cell_type": "code",
   "execution_count": 15,
   "id": "777167e5",
   "metadata": {},
   "outputs": [],
   "source": [
    "from scipy.stats import poisson\n",
    "from itertools import chain\n",
    "\n",
    "def predict_points(home, away, df_team_strength):\n",
    "\n",
    "    if home in chain(*df_team_strength.select(\"Team\").collect()) and away in chain(*df_team_strength.select(\"Team\").collect()):\n",
    "        \n",
    "        home_row = df_team_strength.filter(df_team_strength.Team == home).first()\n",
    "        \n",
    "        away_row = df_team_strength.filter(df_team_strength.Team == away).first()\n",
    "\n",
    "        lambda_home = home_row[\"GoalsScored\"] * away_row[\"GoalsConceded\"]\n",
    "        lambda_away = away_row[\"GoalsScored\"] * home_row[\"GoalsConceded\"]\n",
    "        prob_home, prob_away, prob_draw = 0, 0, 0\n",
    "        import random\n",
    "\n",
    "\n",
    "        games1 = random.randint(1, 145) #number of games the first team will play\n",
    "        games2 = random.randint(1, 145) #number of games the second team will play\n",
    "        points_prob = random.randint(0,2) #home/away advantage\n",
    "        points_prob2 = random.randint(0,1) #home/away advantage\n",
    "        for x in range(0, games1):\n",
    "            for y in range(0, games2):\n",
    "                p = poisson.pmf(x, lambda_home) * poisson.pmf(y, lambda_away)\n",
    "                if x == y:\n",
    "                    prob_draw += p\n",
    "                elif x > y:\n",
    "                    prob_home += p\n",
    "                else:\n",
    "                    prob_away += p   \n",
    "        points_home = 3 * (prob_home) + prob_draw\n",
    "        points_away = 3 * (prob_away) + prob_draw\n",
    "        return (points_prob + points_home,points_prob2 + points_away)\n",
    "    else:\n",
    "        return (10, 10)\n",
    "\n",
    "\n",
    "\n",
    "\n",
    "    "
   ]
  },
  {
   "cell_type": "code",
   "execution_count": 16,
   "id": "f48d7a48",
   "metadata": {},
   "outputs": [
    {
     "name": "stdout",
     "output_type": "stream",
     "text": [
      "Enter the name of the first team:\n",
      "Arsenal\n",
      "Enter the name of the second team:\n",
      "Liverpool\n",
      "Predicting points for Arsenal and Liverpool:\n",
      "The predicted winner is Liverpool with 3 goals.\n"
     ]
    }
   ],
   "source": [
    "print(\"Enter the name of the first team:\")\n",
    "team1 = input().strip()\n",
    "\n",
    "print(\"Enter the name of the second team:\")\n",
    "team2 = input().strip()\n",
    "\n",
    "print(f\"Predicting points for {team1} and {team2}:\")\n",
    "score1, score2 = predict_points(team1, team2, df_team_strength)\n",
    "\n",
    "score1_rounded = round(score1)\n",
    "score2_rounded = round(score2)\n",
    "\n",
    "if score1_rounded > score2_rounded:\n",
    "    print(f\"The predicted winner is {team1} with {score1_rounded} goals.\")\n",
    "elif score2_rounded > score1_rounded:\n",
    "    print(f\"The predicted winner is {team2} with {score2_rounded} goals.\")\n",
    "else:\n",
    "    print(f\"The match between {team1} and {team2} is predicted to be a draw with both teams having {score1_rounded} goals.\")"
   ]
  },
  {
   "cell_type": "code",
   "execution_count": null,
   "id": "0557d82c",
   "metadata": {},
   "outputs": [],
   "source": []
  }
 ],
 "metadata": {
  "kernelspec": {
   "display_name": "Python 3 (ipykernel)",
   "language": "python",
   "name": "python3"
  },
  "language_info": {
   "codemirror_mode": {
    "name": "ipython",
    "version": 3
   },
   "file_extension": ".py",
   "mimetype": "text/x-python",
   "name": "python",
   "nbconvert_exporter": "python",
   "pygments_lexer": "ipython3",
   "version": "3.10.9"
  }
 },
 "nbformat": 4,
 "nbformat_minor": 5
}
