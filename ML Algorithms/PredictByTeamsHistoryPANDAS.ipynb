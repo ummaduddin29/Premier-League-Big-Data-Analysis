{
 "cells": [
  {
   "cell_type": "code",
   "execution_count": 2,
   "id": "c84a1675",
   "metadata": {},
   "outputs": [],
   "source": [
    "teamnames = ['Arsenal', 'Aston Villa', 'Brentford', 'Brighton & Hove Albion', 'Chelsea', 'Crystal Palace', 'Everton', 'Fulham', 'Leeds United', 'Leicester City', 'Liverpool', 'Manchester City', 'Manchester United', 'Newcastle United', 'Nottingham Forest', 'Southampton', 'Tottenham Hotspur', 'West Ham United']"
   ]
  },
  {
   "cell_type": "code",
   "execution_count": 3,
   "id": "6cd27781",
   "metadata": {
    "scrolled": true
   },
   "outputs": [
    {
     "name": "stdout",
     "output_type": "stream",
     "text": [
      "Enter first team:\n",
      "Arsenal\n",
      "Enter second team:\n",
      "Liverpool\n",
      "The predicted winner is Liverpool with 2 goals.\n"
     ]
    }
   ],
   "source": [
    "import pandas as pd\n",
    "from string import ascii_uppercase as alphabet\n",
    "import pickle\n",
    "from scipy.stats import poisson\n",
    "# !pip install scipy\n",
    "\n",
    "df_history_data = pd.read_csv('historical_data.csv')\n",
    "df_history_data.to_csv('historical_data.csv',index=False)\n",
    "\n",
    "df_home = df_history_data[['HomeTeam', 'HomeGoals', 'AwayGoals']]\n",
    "df_away = df_history_data[['AwayTeam', 'HomeGoals', 'AwayGoals']]\n",
    "\n",
    "df_home = df_home.rename(columns={'HomeTeam':'Team','HomeGoals': 'GoalsScored', 'AwayGoals':'GoalsConceded'})\n",
    "df_away = df_away.rename(columns={'AwayTeam':'Team','HomeGoals': 'GoalsConceded', 'AwayGoals':'GoalsScored'})\n",
    "\n",
    "df_team_strength = pd.concat([df_home,df_away],ignore_index=True).groupby('Team').mean() \n",
    "\n",
    "def predict_points(home,away):\n",
    "    if home in df_team_strength.index and away in df_team_strength.index:\n",
    "        lambda_home = df_team_strength.at[home,'GoalsScored']*df_team_strength.at[away,'GoalsConceded']\n",
    "        lambda_away = df_team_strength.at[away,'GoalsScored']*df_team_strength.at[home,'GoalsConceded']\n",
    "        prob_home, prob_away,prob_draw = 0,0,0\n",
    "        for x in range(0,11):#A match can have only 0 to 10 goals\n",
    "            for y in range(0,11):\n",
    "                p = poisson.pmf(x,lambda_home)*poisson.pmf(y, lambda_away)\n",
    "                if x == y:\n",
    "                    prob_draw += p\n",
    "                elif x > y:\n",
    "                    prob_home += p\n",
    "                else:\n",
    "                    prob_away += p\n",
    "        points_home = 3 * prob_home + prob_draw\n",
    "        points_away = 3 * prob_away + prob_draw\n",
    "        return(points_home,points_away)\n",
    "    else:\n",
    "        return(0,0)\n",
    "    \n",
    "    teamnames = ['Arsenal', 'Aston Villa', 'Brentford', 'Brighton & Hove Albion', 'Chelsea', 'Crystal Palace', 'Everton', 'Fulham', 'Leeds United', 'Leicester City', 'Liverpool', 'Manchester City', 'Manchester United', 'Newcastle United', 'Nottingham Forest', 'Southampton', 'Tottenham Hotspur', 'West Ham United']\n",
    "\n",
    "print(\"Enter first team:\")\n",
    "team1 = input().strip()\n",
    "while team1 not in teamnames:\n",
    "    print(\"Invalid team name. Please enter a team from the list:\")\n",
    "    team1 = input().strip()\n",
    "\n",
    "print(\"Enter second team:\")\n",
    "team2 = input().strip()\n",
    "while team2 not in teamnames:\n",
    "    print(\"Invalid team name. Please enter a team from the list:\")\n",
    "    team2 = input().strip()\n",
    "\n",
    "score1, score2 = predict_points(team1, team2)\n",
    "\n",
    "score1_rounded = round(score1)\n",
    "score2_rounded = round(score2)\n",
    "\n",
    "if score1_rounded > score2_rounded:\n",
    "    print(f\"The predicted winner is {team1} with {score1_rounded} goals.\")\n",
    "elif score2_rounded > score1_rounded:\n",
    "    print(f\"The predicted winner is {team2} with {score2_rounded} goals.\")\n",
    "else:\n",
    "    print(f\"The match between {team1} and {team2} is predicted to be a draw with both teams having {score1_rounded} goals.\")\n",
    "\n"
   ]
  },
  {
   "cell_type": "code",
   "execution_count": null,
   "id": "afd5859f",
   "metadata": {},
   "outputs": [],
   "source": []
  }
 ],
 "metadata": {
  "kernelspec": {
   "display_name": "Python 3 (ipykernel)",
   "language": "python",
   "name": "python3"
  },
  "language_info": {
   "codemirror_mode": {
    "name": "ipython",
    "version": 3
   },
   "file_extension": ".py",
   "mimetype": "text/x-python",
   "name": "python",
   "nbconvert_exporter": "python",
   "pygments_lexer": "ipython3",
   "version": "3.10.9"
  }
 },
 "nbformat": 4,
 "nbformat_minor": 5
}
